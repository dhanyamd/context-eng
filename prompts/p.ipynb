{
 "cells": [
  {
   "cell_type": "code",
   "execution_count": null,
   "id": "d3b5e05c",
   "metadata": {},
   "outputs": [],
   "source": [
    "import google.generativeai as genai\n",
    "import time\n",
    "import os\n",
    "\n",
    "genai.configure(api_key=os.environ.get(\"GOOGLE_API_KEY\"))\n",
    "\n",
    "\n",
    "model = genai.GenerativeModel('gemini-1.5-flash')\n",
    "\n",
    "def generate(prompt):\n",
    "    start_time = time.time()\n",
    "    \n",
    "    response = model.generate_content(prompt)\n",
    "    \n",
    "    print(f\"Time taken: {time.time() - start_time:.2f} seconds\")\n",
    "    \n",
    "\n",
    "    return response.text\n",
    "\n",
    "response = generate(\"Capital of India\")\n",
    "print(response)"
   ]
  }
 ],
 "metadata": {
  "kernelspec": {
   "display_name": "Python 3",
   "language": "python",
   "name": "python3"
  },
  "language_info": {
   "codemirror_mode": {
    "name": "ipython",
    "version": 3
   },
   "file_extension": ".py",
   "mimetype": "text/x-python",
   "name": "python",
   "nbconvert_exporter": "python",
   "pygments_lexer": "ipython3",
   "version": "3.13.2"
  }
 },
 "nbformat": 4,
 "nbformat_minor": 5
}
