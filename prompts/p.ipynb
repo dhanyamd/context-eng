{
 "cells": [
  {
   "cell_type": "code",
   "execution_count": null,
   "id": "d3b5e05c",
   "metadata": {},
   "outputs": [
    {
     "name": "stdout",
     "output_type": "stream",
     "text": [
      "Time taken: 1.97 seconds\n",
      "New Delhi\n",
      "\n"
     ]
    }
   ],
   "source": [
    "import google.generativeai as genai\n",
    "import time\n",
    "import os\n",
    "\n",
    "genai.configure(api_key=os.environ.get(\"GOOGLE_API_KEY\"))\n",
    "\n",
    "\n",
    "model = genai.GenerativeModel('gemini-1.5-flash')\n",
    "\n",
    "def generate(prompt):\n",
    "    start_time = time.time()\n",
    "    \n",
    "    response = model.generate_content(prompt)\n",
    "    \n",
    "    print(f\"Time taken: {time.time() - start_time:.2f} seconds\")\n",
    "    \n",
    "\n",
    "    return response.text\n",
    "\n",
    "response = generate(\"Capital of India\")\n",
    "print(response)"
   ]
  },
  {
   "cell_type": "code",
   "execution_count": null,
   "id": "6bcb135f",
   "metadata": {},
   "outputs": [
    {
     "name": "stdout",
     "output_type": "stream",
     "text": [
      "Prediction(\n",
      "    setup=\"So, I was at the fish market the other day, right?  And I see this guy, looks like he's been fishing all night.  He's got this huge net, practically overflowing with fish.  All shapes and sizes.  But then I notice something...  a little unusual.  One of the fish... it's just... different.  No eyes.  Completely blind.  I mean, I've seen some weird fish in my time, but this one... this one took the cake.\",\n",
      "    punchline='I asked the fishmonger, \"What kind of fish is that?\"  He looked at me, scratched his beard, and said, \"Fsh.\"',\n",
      "    contradiction='The setup builds anticipation for a unique or descriptive name for a fish with no eyes, but the punchline is a simple, almost nonsensical response that plays on the lack of eyes and the inability to see or identify the fish.  The humor comes from the unexpected and underwhelming answer.',\n",
      "    deliver='(In a slightly gravelly, observational comedian voice)  So, I was at the fish market, right?  And this guy\\'s got this HUGE net, overflowing with fish.  Every kind imaginable.  Then I spot this one...  no eyes!  Completely blind!  I\\'m like, \"Whoa, what kind of fish is THAT?\"  And the fishmonger, he looks at me, scratches his beard...  (pause for dramatic effect) ...and says,  \"Fsh.\"  (Shrugs, a slight chuckle)  Yeah, real helpful.'\n",
      ")\n"
     ]
    }
   ],
   "source": [
    "import dspy \n",
    "dspy.configure(lm=dspy.LM(model=\"gemini/gemini-1.5-flash\", api_key=os.environ.get(\"GOOGLE_API_KEY\")))\n",
    "\n",
    "class JokeSignature(dspy.Signature): \n",
    "    \"\"\"You are a comedian who likes to tell stories before delivering a punchline\"\"\"\n",
    "    query: str = dspy.InputField() \n",
    "    setup: str = dspy.OutputField()\n",
    "    punchline: str = dspy.OutputField()\n",
    "    contradiction: str = dspy.OutputField()\n",
    "    deliver: str = dspy.OutputField(description=\"The full joke delivery in the comedian's voice\") \n",
    "\n",
    "joke_generator = dspy.Predict(JokeSignature)\n",
    "joke = joke_generator(query=\"What do you call a fish with no eyes?\")\n",
    "print(joke)\n",
    "    \n",
    "\n",
    "\n",
    "\n",
    "\n",
    "\n",
    "\n",
    "\n",
    "\n"
   ]
  }
 ],
 "metadata": {
  "kernelspec": {
   "display_name": "Python 3",
   "language": "python",
   "name": "python3"
  },
  "language_info": {
   "codemirror_mode": {
    "name": "ipython",
    "version": 3
   },
   "file_extension": ".py",
   "mimetype": "text/x-python",
   "name": "python",
   "nbconvert_exporter": "python",
   "pygments_lexer": "ipython3",
   "version": "3.13.2"
  }
 },
 "nbformat": 4,
 "nbformat_minor": 5
}
